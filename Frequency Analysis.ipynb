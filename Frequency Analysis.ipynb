{
 "cells": [
  {
   "cell_type": "code",
   "execution_count": 8,
   "id": "b3e5e2d0",
   "metadata": {},
   "outputs": [],
   "source": [
    "import pandas as pd\n",
    "import numpy as np\n",
    "import matplotlib.pyplot as plt"
   ]
  },
  {
   "cell_type": "code",
   "execution_count": 2,
   "id": "cf20d1fe",
   "metadata": {},
   "outputs": [],
   "source": [
    "dictionary = pd.DataFrame([\"bob\", \"candle\", \"yes\"], columns=[\"Word\"])"
   ]
  },
  {
   "cell_type": "code",
   "execution_count": 3,
   "id": "a1986973",
   "metadata": {},
   "outputs": [],
   "source": [
    "# Set up\n",
    "min_letters = 1\n",
    "max_letters = 20\n",
    "number_of_letters = np.arange(1, max_letters+1)\n",
    "values = []"
   ]
  },
  {
   "cell_type": "code",
   "execution_count": 4,
   "id": "4b4e96ac",
   "metadata": {},
   "outputs": [],
   "source": [
    "# Extract the required df"
   ]
  },
  {
   "cell_type": "code",
   "execution_count": 5,
   "id": "4f59f0bd",
   "metadata": {},
   "outputs": [],
   "source": [
    "# Palindrome check\n",
    "def palindrome_check(words: pd.DataFrame):\n",
    "    words[\"Reverse\"] = words[\"Word\"].str[::-1]\n",
    "    words[\"isPalindrome\"] = words[\"Word\"] == words[\"Reverse\"]\n",
    "    return words[\"isPalindrome\"].sum()"
   ]
  },
  {
   "cell_type": "code",
   "execution_count": 6,
   "id": "c26e679b",
   "metadata": {},
   "outputs": [
    {
     "data": {
      "text/plain": [
       "1"
      ]
     },
     "execution_count": 6,
     "metadata": {},
     "output_type": "execute_result"
    }
   ],
   "source": [
    "palindrome_check(dictionary)"
   ]
  },
  {
   "cell_type": "code",
   "execution_count": null,
   "id": "28ba4685",
   "metadata": {},
   "outputs": [
    {
     "data": {
      "text/plain": [
       "Text(0, 0.5, 'No. of palindromes')"
      ]
     },
     "execution_count": 10,
     "metadata": {},
     "output_type": "execute_result"
    },
    {
     "data": {
      "image/png": "[encoded data removed]",
      "text/plain": [
       "<Figure size 432x288 with 1 Axes>"
      ]
     },
     "metadata": {
      "needs_background": "light"
     },
     "output_type": "display_data"
    }
   ],
   "source": [
    "# Graph of the palindrome frequency distribution\n",
    "plt.bar([1, 2, 3], [10, 5, 4])\n",
    "plt.title(\"Frequency distribution of Palindrome words for a given number of letters in a word\")\n",
    "plt.xlabel(\"No. of letters in the words\")\n",
    "plt.ylabel(\"No. of palindromes\")"
   ]
  },
  {
   "cell_type": "code",
   "execution_count": null,
   "id": "75fa9347",
   "metadata": {},
   "outputs": [],
   "source": []
  },
  {
   "cell_type": "code",
   "execution_count": null,
   "id": "b0bb080d",
   "metadata": {},
   "outputs": [],
   "source": []
  }
 ],
 "metadata": {
  "kernelspec": {
   "display_name": "quantum",
   "language": "python",
   "name": "quantum"
  },
  "language_info": {
   "codemirror_mode": {
    "name": "ipython",
    "version": 3
   },
   "file_extension": ".py",
   "mimetype": "text/x-python",
   "name": "python",
   "nbconvert_exporter": "python",
   "pygments_lexer": "ipython3",
   "version": "3.10.4"
  }
 },
 "nbformat": 4,
 "nbformat_minor": 5
}
