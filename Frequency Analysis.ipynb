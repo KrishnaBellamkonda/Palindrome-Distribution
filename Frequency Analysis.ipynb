{
 "cells": [
  {
   "cell_type": "code",
   "execution_count": 1,
   "id": "b3e5e2d0",
   "metadata": {},
   "outputs": [],
   "source": [
    "import pandas as pd\n",
    "import numpy as np\n",
    "import matplotlib.pyplot as plt\n",
    "\n",
    "import Letters\n"
   ]
  },
  {
   "cell_type": "code",
   "execution_count": 2,
   "id": "08f037b3",
   "metadata": {},
   "outputs": [
    {
     "name": "stdout",
     "output_type": "stream",
     "text": [
      "⚙️ Generating words.csv from WordNet...\n"
     ]
    },
    {
     "name": "stderr",
     "output_type": "stream",
     "text": [
      "[nltk_data] Downloading package stopwords to\n",
      "[nltk_data]     /home/krishna/nltk_data...\n",
      "[nltk_data]   Unzipping corpora/stopwords.zip.\n",
      "[nltk_data] Downloading package wordnet to /home/krishna/nltk_data...\n",
      "[nltk_data]   Package wordnet is already up-to-date!\n",
      "[nltk_data] Downloading package omw-1.4 to /home/krishna/nltk_data...\n",
      "[nltk_data]   Package omw-1.4 is already up-to-date!\n"
     ]
    },
    {
     "name": "stdout",
     "output_type": "stream",
     "text": [
      "✅ Saved 147175 real words with meanings to ./words.csv\n"
     ]
    }
   ],
   "source": [
    "# Get the required dictionary csv\n",
    "Letters.generate_words_csv()"
   ]
  },
  {
   "cell_type": "code",
   "execution_count": 7,
   "id": "cf20d1fe",
   "metadata": {},
   "outputs": [],
   "source": [
    "# dictionary = pd.DataFrame([\"bob\", \"candle\", \"yes\"], columns=[\"Word\"])"
   ]
  },
  {
   "cell_type": "code",
   "execution_count": 36,
   "id": "4f59f0bd",
   "metadata": {},
   "outputs": [],
   "source": [
    "# Palindrome check\n",
    "def palindrome_check(words: pd.DataFrame):\n",
    "    words[\"reverse\"] = words[\"word\"].str[::-1]\n",
    "    words[\"isPalindrome\"] = words[\"word\"] == words[\"reverse\"]\n",
    "    palindromes = words[words[\"isPalindrome\"]][\"word\"].tolist()\n",
    "    return words[\"isPalindrome\"].sum(), palindromes"
   ]
  },
  {
   "cell_type": "code",
   "execution_count": 37,
   "id": "a1986973",
   "metadata": {},
   "outputs": [],
   "source": [
    "# Set up\n",
    "min_letters = 2\n",
    "max_letters = 25\n",
    "number_of_letters = np.arange(1, max_letters+1)\n",
    "values = []\n",
    "palindrome_words = []\n",
    "\n",
    "for n_letters in number_of_letters:\n",
    "    df = Letters.get_words_by_length(n_letters)\n",
    "    n_palindromes, palindromes = palindrome_check(df)\n",
    "    values.append(n_palindromes)\n",
    "    palindrome_words.append(palindromes)"
   ]
  },
  {
   "cell_type": "code",
   "execution_count": 40,
   "id": "14259592",
   "metadata": {},
   "outputs": [
    {
     "data": {
      "text/plain": [
       "['aaa',\n",
       " 'aba',\n",
       " 'ada',\n",
       " 'aga',\n",
       " 'ala',\n",
       " 'ana',\n",
       " 'ara',\n",
       " 'bib',\n",
       " 'bob',\n",
       " 'cbc',\n",
       " 'ccc',\n",
       " 'cdc',\n",
       " 'cfc',\n",
       " 'ctc',\n",
       " 'dad',\n",
       " 'ded',\n",
       " 'dmd',\n",
       " 'dod',\n",
       " 'dud',\n",
       " 'dvd',\n",
       " 'ene',\n",
       " 'ese',\n",
       " 'eve',\n",
       " 'ewe',\n",
       " 'eye',\n",
       " 'gag',\n",
       " 'gig',\n",
       " 'iii',\n",
       " 'isi',\n",
       " 'kkk',\n",
       " 'ldl',\n",
       " 'mam',\n",
       " 'mem',\n",
       " 'mom',\n",
       " 'mum',\n",
       " 'mym',\n",
       " 'non',\n",
       " 'nun',\n",
       " 'odo',\n",
       " 'ofo',\n",
       " 'ono',\n",
       " 'oto',\n",
       " 'pap',\n",
       " 'pcp',\n",
       " 'pep',\n",
       " 'pip',\n",
       " 'pop',\n",
       " 'ppp',\n",
       " 'pup',\n",
       " 'sas',\n",
       " 'sis',\n",
       " 'sls',\n",
       " 'sos',\n",
       " 'sss',\n",
       " 'sus',\n",
       " 'tat',\n",
       " 'tdt',\n",
       " 'tet',\n",
       " 'tit',\n",
       " 'tnt',\n",
       " 'tot',\n",
       " 'tut',\n",
       " 'utu',\n",
       " 'waw',\n",
       " 'wnw',\n",
       " 'wow',\n",
       " 'wsw',\n",
       " 'www',\n",
       " 'xix',\n",
       " 'xxx',\n",
       " 'yay']"
      ]
     },
     "execution_count": 40,
     "metadata": {},
     "output_type": "execute_result"
    }
   ],
   "source": [
    "palindrome_words[2]"
   ]
  },
  {
   "cell_type": "code",
   "execution_count": 23,
   "id": "4b4e96ac",
   "metadata": {},
   "outputs": [],
   "source": [
    "# Extract the required df"
   ]
  },
  {
   "cell_type": "code",
   "execution_count": 24,
   "id": "28ba4685",
   "metadata": {},
   "outputs": [
    {
     "data": {
      "image/png": "[encoded data removed]",
      "text/plain": [
       "<Figure size 432x288 with 1 Axes>"
      ]
     },
     "metadata": {
      "needs_background": "light"
     },
     "output_type": "display_data"
    }
   ],
   "source": [
    "# Figure size\n",
    "plt.figure(figsize=(6,4))\n",
    "\n",
    "# Bar plot with soft color + edge\n",
    "bars = plt.bar(number_of_letters, values, color=\"steelblue\", edgecolor=\"black\", alpha=0.8)\n",
    "\n",
    "# Titles and labels\n",
    "plt.title(\"Palindrome Frequency Distribution\", fontsize=14, weight=\"bold\")\n",
    "plt.xlabel(\"Number of Letters in Word\", fontsize=12)\n",
    "plt.ylabel(\"Number of Palindromes\", fontsize=12)\n",
    "\n",
    "# Grid for readability\n",
    "plt.grid(axis=\"y\", linestyle=\"--\", alpha=0.6)\n",
    "\n",
    "# Add values on top of bars\n",
    "for bar in bars:\n",
    "    height = bar.get_height()\n",
    "    plt.text(bar.get_x() + bar.get_width()/2, height + 0.2,\n",
    "             str(height), ha=\"center\", va=\"bottom\", fontsize=10)\n",
    "\n",
    "# Ticks styling\n",
    "plt.xticks(number_of_letters, fontsize=11)\n",
    "plt.yticks(fontsize=11)\n",
    "\n",
    "# Clean layout\n",
    "plt.tight_layout()\n",
    "plt.show()"
   ]
  }
 ],
 "metadata": {
  "kernelspec": {
   "display_name": "quantum",
   "language": "python",
   "name": "quantum"
  },
  "language_info": {
   "codemirror_mode": {
    "name": "ipython",
    "version": 3
   },
   "file_extension": ".py",
   "mimetype": "text/x-python",
   "name": "python",
   "nbconvert_exporter": "python",
   "pygments_lexer": "ipython3",
   "version": "3.10.4"
  }
 },
 "nbformat": 4,
 "nbformat_minor": 5
}
